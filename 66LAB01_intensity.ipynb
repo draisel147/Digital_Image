{
  "nbformat": 4,
  "nbformat_minor": 0,
  "metadata": {
    "colab": {
      "provenance": [],
      "toc_visible": true,
      "include_colab_link": true
    },
    "kernelspec": {
      "name": "python3",
      "display_name": "Python 3"
    },
    "language_info": {
      "name": "python"
    }
  },
  "cells": [
    {
      "cell_type": "markdown",
      "metadata": {
        "id": "view-in-github",
        "colab_type": "text"
      },
      "source": [
        "<a href=\"https://colab.research.google.com/github/draisel147/Digital_Image/blob/main/66LAB01_intensity.ipynb\" target=\"_parent\"><img src=\"https://colab.research.google.com/assets/colab-badge.svg\" alt=\"Open In Colab\"/></a>"
      ]
    },
    {
      "cell_type": "markdown",
      "source": [
        "## ติดต่อกับ Google Drive"
      ],
      "metadata": {
        "id": "O_t_kfnBcOwR"
      }
    },
    {
      "cell_type": "code",
      "source": [
        "from google.colab import drive\n",
        "drive.mount('/content/drive')"
      ],
      "metadata": {
        "id": "61tKiSRh6JFd",
        "colab": {
          "base_uri": "https://localhost:8080/"
        },
        "outputId": "f8da9c73-b5d1-4ce0-afbd-b5504a88aa3c"
      },
      "execution_count": null,
      "outputs": [
        {
          "output_type": "stream",
          "name": "stdout",
          "text": [
            "Drive already mounted at /content/drive; to attempt to forcibly remount, call drive.mount(\"/content/drive\", force_remount=True).\n"
          ]
        }
      ]
    },
    {
      "cell_type": "markdown",
      "source": [
        "# กำหนด folder ที่ใช้ทำงาน"
      ],
      "metadata": {
        "id": "kJozrLAWQXZW"
      }
    },
    {
      "cell_type": "code",
      "source": [
        "import os\n",
        "cwd = os.getcwd()\n",
        "print(cwd)\n",
        "os.chdir('/content/drive/MyDrive/DS/LAB/LAB1')\n",
        "print(cwd)"
      ],
      "metadata": {
        "id": "d2S0WXxFQWP0"
      },
      "execution_count": null,
      "outputs": []
    },
    {
      "cell_type": "markdown",
      "source": [
        "# Basic Operations with OpenCV:\n",
        "1. Importing OpenCV\n",
        "2. Loading an image\n",
        "3. Image Shape/ Resolution\n",
        "4. Displaying the image\n",
        "5. Resizing the image\n"
      ],
      "metadata": {
        "id": "v2AFGhdnkIVT"
      }
    },
    {
      "cell_type": "markdown",
      "source": [
        "## Importing OpenCV"
      ],
      "metadata": {
        "id": "t8QCPprjmS57"
      }
    },
    {
      "cell_type": "code",
      "source": [
        "import cv2"
      ],
      "metadata": {
        "id": "G_Gk3RBdjL4k"
      },
      "execution_count": null,
      "outputs": []
    },
    {
      "cell_type": "code",
      "source": [
        "import cv2 as cv"
      ],
      "metadata": {
        "id": "EPwJfrHymivK"
      },
      "execution_count": null,
      "outputs": []
    },
    {
      "cell_type": "markdown",
      "metadata": {
        "id": "MMHt9InuLN39"
      },
      "source": [
        "**For Google Colab Users**"
      ]
    },
    {
      "cell_type": "code",
      "metadata": {
        "id": "rXYrDhI5LLpI"
      },
      "source": [
        "from google.colab import drive\n",
        "\n",
        "# Accessing My Google Drive\n",
        "drive.mount('/content/drive')"
      ],
      "execution_count": null,
      "outputs": []
    },
    {
      "cell_type": "markdown",
      "source": [
        "## Loading an image using OpenCV"
      ],
      "metadata": {
        "id": "Hddlw7ZYnxNZ"
      }
    },
    {
      "cell_type": "markdown",
      "source": [
        "* **cv2.IMREAD_COLOR:**  to load a color image. Any transparency of image will be neglected. It is the default flag. Alternatively, we can pass integer value 1 for this flag.\n",
        "* **cv2.IMREAD_GRAYSCALE:** to load an image in grayscale mode. Alternatively, we can pass integer value 0 for this flag.\n",
        "* **cv2.IMREAD_UNCHANGED:** It specifies to load an image as such including alpha channel. Alternatively, we can pass integer value -1 for this flag."
      ],
      "metadata": {
        "id": "QiVjU_DKtrwG"
      }
    },
    {
      "cell_type": "code",
      "source": [
        "\n",
        "img = cv2.imread(\"/content/drive/MyDrive/DS/1_2566/image/lena.png\",1)\n",
        "#print(img)"
      ],
      "metadata": {
        "id": "S8d9A0xboEy9"
      },
      "execution_count": null,
      "outputs": []
    },
    {
      "cell_type": "code",
      "source": [
        "path = \"/content/drive/MyDrive/DS/LAB/LAB1/image/lena.png\" # Add the path of the image here"
      ],
      "metadata": {
        "id": "6OuEY43vsnBx"
      },
      "execution_count": null,
      "outputs": []
    },
    {
      "cell_type": "code",
      "source": [
        "img = cv2.imread(path)"
      ],
      "metadata": {
        "id": "u-JglEBftDLU"
      },
      "execution_count": null,
      "outputs": []
    },
    {
      "cell_type": "code",
      "source": [
        "# For colored Image\n",
        "img = cv2.imread(path,1)"
      ],
      "metadata": {
        "id": "_zrG4TM2tQlW"
      },
      "execution_count": null,
      "outputs": []
    },
    {
      "cell_type": "code",
      "source": [
        "# For gray scale\n",
        "img = cv2.imread(path,0)"
      ],
      "metadata": {
        "id": "zb6bh8_UtXta"
      },
      "execution_count": null,
      "outputs": []
    },
    {
      "cell_type": "markdown",
      "source": [
        "## Displaying an image\n",
        "The **cv2.imshow()**  of cv2 is disabled in Google Colab.\n",
        "Users need to import cv2_imshow for displaying images.\n",
        "\n",
        "\n",
        "*   Google colab:\n",
        "> from google.colab.patches import cv2_imshow\n",
        "cv2_imshow(img)\n",
        "\n",
        "\n",
        "\n",
        "\n"
      ],
      "metadata": {
        "id": "WWT1FAQaGAPE"
      }
    },
    {
      "cell_type": "code",
      "source": [
        "from google.colab.patches import cv2_imshow\n",
        "\n",
        "cv2_imshow(img)"
      ],
      "metadata": {
        "id": "eutl_4xxC4XB"
      },
      "execution_count": null,
      "outputs": []
    },
    {
      "cell_type": "code",
      "source": [
        "# For Colab users\n",
        "from google.colab.patches import cv2_imshow\n",
        "import cv2\n",
        "img = cv2.imread(\"/content/drive/MyDrive/DS/1_2566/image/lena.png\",0)\n",
        "cv2_imshow(img)\n",
        "\n",
        "\n",
        "# For Jupyter Notebook users:\n",
        "# cv2.imshow(“Lena”, img)  # Here, \"Penguin\" is the name that'll be given to the window\n",
        "\n",
        "# waiting for key event\n",
        "cv2.waitKey(0)\n",
        "\n",
        "# destroying all windows\n",
        "cv2.destroyAllWindows()"
      ],
      "metadata": {
        "id": "A0YkBLglIsG_"
      },
      "execution_count": null,
      "outputs": []
    },
    {
      "cell_type": "markdown",
      "source": [
        "*   Matplotlib"
      ],
      "metadata": {
        "id": "8MapoL3DMTgP"
      }
    },
    {
      "cell_type": "code",
      "source": [
        "#from matplotlib import pyplot as plt\n",
        "import matplotlib.pyplot as plt\n",
        "plt.imshow(img)\n",
        "plt.axis(\"off\")\n",
        "plt.show()"
      ],
      "metadata": {
        "id": "5j81CQ5-MPZb"
      },
      "execution_count": null,
      "outputs": []
    },
    {
      "cell_type": "code",
      "source": [
        "#from matplotlib import pyplot as plt\n",
        "import matplotlib.pyplot as plt\n",
        "import matplotlib.image as imgPP\n",
        "img = imgPP.imread(\"/content/drive/MyDrive/DS/1_2566/image/lena.png\")\n",
        "plt.imshow(img)\n",
        "plt.axis(\"off\")\n",
        "plt.show()"
      ],
      "metadata": {
        "id": "G66S8YyxFYEg"
      },
      "execution_count": null,
      "outputs": []
    },
    {
      "cell_type": "code",
      "source": [
        "plt.axis(\"off\")\n",
        "plt.imshow(cv2.cvtColor(img, cv2.COLOR_BGR2RGB))\n",
        "plt.show()"
      ],
      "metadata": {
        "id": "bccZhHECNRhN"
      },
      "execution_count": null,
      "outputs": []
    },
    {
      "cell_type": "code",
      "source": [
        "import numpy as np\n",
        "# create a mask\n",
        "mask = np.zeros([img.shape[0],img.shape[1]], np.uint8)\n",
        "mask[50:150, 150:200] = 255\n",
        "cv2_imshow(mask)"
      ],
      "metadata": {
        "id": "gLgZpmsqPz7q"
      },
      "execution_count": null,
      "outputs": []
    },
    {
      "cell_type": "markdown",
      "source": [
        "## Image Shape/Resolution"
      ],
      "metadata": {
        "id": "EA-yq46oFvn2"
      }
    },
    {
      "cell_type": "code",
      "source": [
        "img = cv2.imread(\"/content/drive/MyDrive/DS/1_2566/image/lena.png\",1)\n",
        "dd=img.shape\n",
        "print(dd)\n",
        "#print(dd[0])\n",
        "#print(dd[1])\n",
        "#print(dd[2])"
      ],
      "metadata": {
        "id": "8dTDQzufNu0N"
      },
      "execution_count": null,
      "outputs": []
    },
    {
      "cell_type": "code",
      "source": [
        "img.size"
      ],
      "metadata": {
        "id": "9TWxEn_1N6da"
      },
      "execution_count": null,
      "outputs": []
    },
    {
      "cell_type": "code",
      "source": [
        "img.dtype"
      ],
      "metadata": {
        "id": "USCVTqYZPaR9"
      },
      "execution_count": null,
      "outputs": []
    },
    {
      "cell_type": "markdown",
      "source": [
        "## Resizing the image:"
      ],
      "metadata": {
        "id": "F9n9gZShOYMU"
      }
    },
    {
      "cell_type": "code",
      "source": [
        "print(img.shape)\n",
        "print(img[50,100])  #[B,G,R]\n",
        "print(img[50,100,0]) #blue\n",
        "img2=img[10:50,20:100]\n",
        "cv2_imshow(img2)\n",
        "\n",
        "img[50,20] =0\n",
        "\n",
        "\n",
        "#resized_image = cv2.resize(img, None, fx=2,fy=0.2)\n",
        "# Colab users:\n",
        "#cv2_imshow(resized_image)\n",
        "#resized_image.shape\n"
      ],
      "metadata": {
        "id": "2WMCITJaOqpn"
      },
      "execution_count": null,
      "outputs": []
    },
    {
      "cell_type": "code",
      "execution_count": null,
      "metadata": {
        "id": "zvlVf97m6Pkn"
      },
      "outputs": [],
      "source": [
        "from numpy.lib.type_check import imag\n",
        "\n",
        "im1_resize = cv2.resize(img,None,fx=2,fy=2)\n",
        "cv2_imshow(im1_resize)\n",
        "print(im1_resize.shape)\n",
        "\n",
        "im1_resize2 = cv2.resize(img,(110,110))\n",
        "cv2_imshow(im1_resize2)\n",
        "print(im1_resize2.shape)\n"
      ]
    },
    {
      "cell_type": "code",
      "source": [
        "print(img.shape)\n"
      ],
      "metadata": {
        "id": "rxLK3cGMQhhH"
      },
      "execution_count": null,
      "outputs": []
    },
    {
      "cell_type": "code",
      "source": [
        "img = cv2.imread(path,1)\n",
        "print(img.shape[1],)"
      ],
      "metadata": {
        "id": "Bo81UtziQxT8"
      },
      "execution_count": null,
      "outputs": []
    },
    {
      "cell_type": "code",
      "source": [
        "import cv2\n",
        "from google.colab.patches import cv2_imshow\n",
        "im1 = cv2.imread(\"/content/drive/MyDrive/DS/LAB/LAB1/image/lena.png\")\n",
        "cv2_imshow(im1)\n",
        "d1 = im1.shape\n",
        "p1 = im1[:,:,2]\n",
        "cv2_imshow(p1)\n"
      ],
      "metadata": {
        "id": "roZOxj9FP5hb"
      },
      "execution_count": null,
      "outputs": []
    },
    {
      "cell_type": "markdown",
      "source": [
        "##Writing an image"
      ],
      "metadata": {
        "id": "22AC-6_kPGDc"
      }
    },
    {
      "cell_type": "code",
      "source": [
        "cv2.imwrite('grayscale.png',img)"
      ],
      "metadata": {
        "id": "hS7RsffPPKn6"
      },
      "execution_count": null,
      "outputs": []
    },
    {
      "cell_type": "markdown",
      "source": [],
      "metadata": {
        "id": "AGTvEEnAdmIh"
      }
    },
    {
      "cell_type": "markdown",
      "source": [
        "## Intensity Transformation"
      ],
      "metadata": {
        "id": "XZZBhqsZTfXY"
      }
    },
    {
      "cell_type": "markdown",
      "source": [
        "### Image Negatives (Linear)"
      ],
      "metadata": {
        "id": "-3Z6jpsnTNSl"
      }
    },
    {
      "cell_type": "code",
      "source": [
        "import cv2\n",
        "from google.colab.patches import cv2_imshow\n",
        "im1 = cv2.imread(\"/content/drive/MyDrive/DS/LAB/LAB1/image/lena.png\",0)\n",
        "cv2_imshow(im1)\n",
        "\n",
        "im1_invrt = 255 - im1\n",
        "cv2_imshow(im1_invrt)\n"
      ],
      "metadata": {
        "id": "jgCenGmGYOy6"
      },
      "execution_count": null,
      "outputs": []
    },
    {
      "cell_type": "markdown",
      "source": [
        "### Log Transformations"
      ],
      "metadata": {
        "id": "oe6PStyVT3bI"
      }
    },
    {
      "cell_type": "code",
      "source": [
        "import cv2\n",
        "import numpy as np\n",
        "from google.colab.patches import cv2_imshow\n",
        "\n",
        "img = cv2.imread(\"/content/drive/MyDrive/DS/LAB/LAB1/image/lena.png\",0)\n",
        "cv2_imshow(img)\n",
        "\n",
        "# log transform.\n",
        "c = 255/(np.log(1 + np.max(img)))\n",
        "log_transformed = c * np.log(1 + img)\n",
        "\n",
        "# Specify the data type.\n",
        "log_transformed = np.array(log_transformed, dtype = np.uint8)\n",
        "\n",
        "cv2_imshow(log_transformed)"
      ],
      "metadata": {
        "id": "mxif79_hUA_1"
      },
      "execution_count": null,
      "outputs": []
    },
    {
      "cell_type": "code",
      "source": [
        "import cv2\n",
        "import numpy as np\n",
        "\n",
        "from google.colab.patches import cv2_imshow\n",
        "\n",
        "im1 = cv2.imread(\"/content/drive/MyDrive/DS/LAB/LAB1/image/lena.png\",0)\n",
        "cv2_imshow(im1)\n",
        "\n",
        "im1_power = np.array(255*(im1/255)**0.4,dtype=np.uint8)\n",
        "\n",
        "cv2_imshow(im1_power)\n",
        "\n",
        "im_result = cv2.hconcat([im1,im1_power])\n",
        "cv2_imshow(im_result)\n"
      ],
      "metadata": {
        "id": "5bd86JH-b7_p"
      },
      "execution_count": null,
      "outputs": []
    },
    {
      "cell_type": "markdown",
      "source": [
        "### Power-Law (Gamma) Transformation"
      ],
      "metadata": {
        "id": "jUYe3QNyWjIx"
      }
    },
    {
      "cell_type": "code",
      "source": [
        "import cv2\n",
        "import numpy as np\n",
        "from google.colab.patches import cv2_imshow\n",
        "\n",
        "img = cv2.imread(\"/content/drive/MyDrive/DS/LAB/LAB1/image/lena.png\",0)\n",
        "cv2_imshow(img)\n",
        "\n",
        "for gamma in [0.1, 0.5, 1.2, 2.2]:\n",
        "  gamma_img = np.array(255*(img / 255) ** gamma, dtype = 'uint8')\n",
        "  cv2_imshow(gamma_img)"
      ],
      "metadata": {
        "id": "4s1hCisKVK0Z"
      },
      "execution_count": null,
      "outputs": []
    },
    {
      "cell_type": "markdown",
      "source": [
        "## Piecewise-Linear Transformation Functions"
      ],
      "metadata": {
        "id": "bVuwm6eiWu-8"
      }
    },
    {
      "cell_type": "code",
      "source": [
        "from google.colab.patches import cv2_imshow\n",
        "img = cv2.imread(\"/content/drive/MyDrive/DS/LAB/LAB1/image/lena.png\",0)\n",
        "cv2_imshow(img)\n",
        "\n",
        "# copy an image\n",
        "newImage = img.copy()\n",
        "[row,col] = img.shape\n",
        "\n",
        "# Define parameters.\n",
        "r1 = 70\n",
        "s1 = 0\n",
        "r2 = 140\n",
        "s2 = 255\n",
        "\n",
        "for i in range(row):\n",
        "  for j in range(col):\n",
        "    if (0 <= img[i,j] and img[i,j] <= r1):\n",
        "      newImage[i,j] = (s1 / r1)*img[i,j]\n",
        "    elif (r1 < img[i,j] and img[i,j] <= r2):\n",
        "      newImage[i,j] =  ((s2 - s1)/(r2 - r1)) * (img[i,j] - r1) + s1\n",
        "    else:\n",
        "      newImage[i,j] =  ((255 - s2)/(255 - r2)) * (img[i,j] - r2) + s2\n",
        "\n",
        "cv2_imshow(newImage)"
      ],
      "metadata": {
        "id": "_lHMQn-TYj4l"
      },
      "execution_count": null,
      "outputs": []
    },
    {
      "cell_type": "code",
      "source": [
        "import cv2\n",
        "import numpy as np\n",
        "from google.colab.patches import cv2_imshow\n",
        "\n",
        "# Function\n",
        "def pixelVal(pix, r1, s1, r2, s2):\n",
        "\tif (0 <= pix and pix <= r1):\n",
        "\t\treturn (s1 / r1)*pix\n",
        "\telif (r1 < pix and pix <= r2):\n",
        "\t\treturn ((s2 - s1)/(r2 - r1)) * (pix - r1) + s1\n",
        "\telse:\n",
        "\t\treturn ((255 - s2)/(255 - r2)) * (pix - r2) + s2\n",
        "\n",
        "img = cv2.imread(\"/content/drive/MyDrive/DS/LAB/LAB1/image/lena.png\",0)\n",
        "cv2_imshow(img)\n",
        "\n",
        "# Define parameters.\n",
        "r1 = 70\n",
        "s1 = 0\n",
        "r2 = 140\n",
        "s2 = 255\n",
        "\n",
        "# Vectorize the function to apply it to each value in the Numpy array.\n",
        "pixelVal_vec = np.vectorize(pixelVal)\n",
        "\n",
        "# Apply contrast stretching.\n",
        "contrast_stretched = pixelVal_vec(img, r1, s1, r2, s2)\n",
        "\n",
        "# Save edited image.\n",
        "cv2_imshow(contrast_stretched)\n",
        "\n"
      ],
      "metadata": {
        "id": "Wz5HKLAPPzuV"
      },
      "execution_count": null,
      "outputs": []
    }
  ]
}